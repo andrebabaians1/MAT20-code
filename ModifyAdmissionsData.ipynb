{
 "cells": [
  {
   "cell_type": "code",
   "execution_count": 9,
   "id": "c4a2b651-8b71-4cb9-8c79-3dd7d1cc38f5",
   "metadata": {},
   "outputs": [],
   "source": [
    "import pandas as pd\n",
    "\n",
    "# Set filepath to admissions data\n",
    "inputFilePath = 'C:\\\\Users\\\\cvpga\\\\dissert\\\\data\\\\newAdmissions_nation_2020.csv'\n",
    "outputFilePath = 'C:\\\\Users\\\\cvpga\\\\dissert\\\\modified_admissions.csv'\n",
    "# Modify data to only England\n",
    "df = pd.read_csv(inputFilePath)\n",
    "df = df[df['area_name'] == 'England']\n",
    "\n",
    "# Store only fields that are needed\n",
    "df = df[['date','value']]\n",
    "\n",
    "# You can export this dataframe.\n",
    "df.to_csv(outputFilePath, index=False)"
   ]
  }
 ],
 "metadata": {
  "kernelspec": {
   "display_name": "Python 3 (ipykernel)",
   "language": "python",
   "name": "python3"
  },
  "language_info": {
   "codemirror_mode": {
    "name": "ipython",
    "version": 3
   },
   "file_extension": ".py",
   "mimetype": "text/x-python",
   "name": "python",
   "nbconvert_exporter": "python",
   "pygments_lexer": "ipython3",
   "version": "3.12.4"
  }
 },
 "nbformat": 4,
 "nbformat_minor": 5
}
